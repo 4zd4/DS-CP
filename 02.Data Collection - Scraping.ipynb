{
 "cells": [
  {
   "cell_type": "markdown",
   "metadata": {},
   "source": [
    "<p style=\"text-align:center\">\n",
    "    <a href=\"https://skills.network\" target=\"_blank\">\n",
    "    <img src=\"https://cf-courses-data.s3.us.cloud-object-storage.appdomain.cloud/assets/logos/SN_web_lightmode.png\" width=\"200\" alt=\"Skills Network Logo\">\n",
    "    </a>\n",
    "</p>\n"
   ]
  },
  {
   "cell_type": "markdown",
   "metadata": {},
   "source": [
    "# **Space X  Falcon 9 First Stage Landing Prediction**\n"
   ]
  },
  {
   "cell_type": "markdown",
   "metadata": {},
   "source": [
    "## Web scraping Falcon 9 and Falcon Heavy Launches Records from Wikipedia\n"
   ]
  },
  {
   "cell_type": "markdown",
   "metadata": {},
   "source": [
    "Estimated time needed: **40** minutes\n"
   ]
  },
  {
   "cell_type": "markdown",
   "metadata": {},
   "source": [
    "In this lab, you will be performing web scraping to collect Falcon 9 historical launch records from a Wikipedia page titled `List of Falcon 9 and Falcon Heavy launches`\n",
    "\n",
    "https://en.wikipedia.org/wiki/List_of_Falcon_9_and_Falcon_Heavy_launches\n"
   ]
  },
  {
   "cell_type": "markdown",
   "metadata": {},
   "source": [
    "\n",
    "\n",
    "\n",
    "\n",
    "\n",
    "\n",
    "\n",
    "\n",
    "\n",
    "\n",
    "\n",
    "\n",
    "\n",
    "\n",
    "\n",
    "\n",
    "\n",
    "\n",
    "\n",
    "\n",
    "\n",
    "\n",
    "\n",
    "\n",
    "\n",
    "\n",
    "\n",
    "\n",
    "\n",
    "\n",
    "\n",
    "\n",
    "\n",
    "\n",
    "\n",
    "\n",
    "\n",
    "\n",
    "\n"
   ]
  },
  {
   "cell_type": "markdown",
   "metadata": {},
   "source": [
    "Falcon 9 first stage will land successfully\n"
   ]
  },
  {
   "cell_type": "markdown",
   "metadata": {},
   "source": [
    "Several examples of an unsuccessful landing are shown here:\n"
   ]
  },
  {
   "cell_type": "markdown",
   "metadata": {},
   "source": [
    "More specifically, the launch records are stored in a HTML table shown below:\n"
   ]
  },
  {
   "cell_type": "markdown",
   "metadata": {},
   "source": [
    "  ## Objectives\n",
    "Web scrap Falcon 9 launch records with `BeautifulSoup`: \n",
    "- Extract a Falcon 9 launch records HTML table from Wikipedia\n",
    "- Parse the table and convert it into a Pandas data frame\n"
   ]
  },
  {
   "cell_type": "markdown",
   "metadata": {},
   "source": [
    "First let's import required packages for this lab\n"
   ]
  },
  {
   "cell_type": "code",
   "execution_count": null,
   "metadata": {},
   "outputs": [],
   "source": [
    "!pip3 install beautifulsoup4\n",
    "!pip3 install requests"
   ]
  },
  {
   "cell_type": "code",
   "execution_count": 1,
   "metadata": {},
   "outputs": [],
   "source": [
    "import sys\n",
    "\n",
    "import requests\n",
    "from bs4 import BeautifulSoup\n",
    "import re\n",
    "import unicodedata\n",
    "import pandas as pd"
   ]
  },
  {
   "cell_type": "markdown",
   "metadata": {},
   "source": [
    "and we will provide some helper functions for you to process web scraped HTML table\n"
   ]
  },
  {
   "cell_type": "markdown",
   "metadata": {},
   "source": [
    "\n",
    "\n",
    "\n",
    "\n",
    "\n",
    "\n",
    "\n",
    "\n",
    "\n",
    "\n",
    "\n",
    "\n",
    "\n",
    "\n",
    "\n",
    "\n",
    "\n",
    "\n",
    "\n",
    "\n",
    "\n",
    "\n",
    "\n",
    "\n",
    "\n",
    "\n",
    "\n",
    "\n",
    "\n",
    "\n",
    "\n",
    "\n",
    "\n",
    "\n",
    "\n",
    "\n",
    "\n",
    "\n",
    "\n",
    "\n",
    "\n",
    "\n",
    "\n",
    "\n",
    "\n",
    "\n",
    "\n",
    "\n",
    "\n",
    "\n",
    "\n",
    "\n",
    "\n",
    "\n",
    "\n"
   ]
  },
  {
   "cell_type": "code",
   "execution_count": 2,
   "metadata": {},
   "outputs": [],
   "source": [
    "def date_time(table_cells):\n",
    "    \"\"\"\n",
    "    This function returns the data and time from the HTML  table cell\n",
    "    Input: the  element of a table data cell extracts extra row\n",
    "    \"\"\"\n",
    "    return [data_time.strip() for data_time in list(table_cells.strings)][0:2]\n",
    "\n",
    "def booster_version(table_cells):\n",
    "    \"\"\"\n",
    "    This function returns the booster version from the HTML  table cell \n",
    "    Input: the  element of a table data cell extracts extra row\n",
    "    \"\"\"\n",
    "    out=''.join([booster_version for i,booster_version in enumerate( table_cells.strings) if i%2==0][0:-1])\n",
    "    return out\n",
    "\n",
    "def landing_status(table_cells):\n",
    "    \"\"\"\n",
    "    This function returns the landing status from the HTML table cell \n",
    "    Input: the  element of a table data cell extracts extra row\n",
    "    \"\"\"\n",
    "    out=[i for i in table_cells.strings][0]\n",
    "    return out\n",
    "\n",
    "\n",
    "def get_mass(table_cells):\n",
    "    mass=unicodedata.normalize(\"NFKD\", table_cells.text).strip()\n",
    "    if mass:\n",
    "        mass.find(\"kg\")\n",
    "        new_mass=mass[0:mass.find(\"kg\")+2]\n",
    "    else:\n",
    "        new_mass=0\n",
    "    return new_mass\n",
    "\n",
    "\n",
    "def extract_column_from_header(row):\n",
    "    \"\"\"\n",
    "    This function returns the landing status from the HTML table cell \n",
    "    Input: the  element of a table data cell extracts extra row\n",
    "    \"\"\"\n",
    "    if (row.br):\n",
    "        row.br.extract()\n",
    "    if row.a:\n",
    "        row.a.extract()\n",
    "    if row.sup:\n",
    "        row.sup.extract()\n",
    "        \n",
    "    colunm_name = ' '.join(row.contents)\n",
    "    \n",
    "    # Filter the digit and empty names\n",
    "    if not(colunm_name.strip().isdigit()):\n",
    "        colunm_name = colunm_name.strip()\n",
    "        return colunm_name    \n"
   ]
  },
  {
   "cell_type": "markdown",
   "metadata": {},
   "source": [
    "To keep the lab tasks consistent, you will be asked to scrape the data from a snapshot of the  `List of Falcon 9 and Falcon Heavy launches` Wikipage updated on\n",
    "`9th June 2021`\n"
   ]
  },
  {
   "cell_type": "code",
   "execution_count": 3,
   "metadata": {},
   "outputs": [],
   "source": [
    "static_url = \"https://en.wikipedia.org/w/index.php?title=List_of_Falcon_9_and_Falcon_Heavy_launches&oldid=1027686922\""
   ]
  },
  {
   "cell_type": "markdown",
   "metadata": {},
   "source": [
    "Next, request the HTML page from the above URL and get a `response` object\n"
   ]
  },
  {
   "cell_type": "markdown",
   "metadata": {},
   "source": [
    "### TASK 1: Request the Falcon9 Launch Wiki page from its URL\n"
   ]
  },
  {
   "cell_type": "markdown",
   "metadata": {},
   "source": [
    "First, let's perform an HTTP GET method to request the Falcon9 Launch HTML page, as an HTTP response.\n"
   ]
  },
  {
   "cell_type": "code",
   "execution_count": 8,
   "metadata": {},
   "outputs": [
    {
     "name": "stdout",
     "output_type": "stream",
     "text": [
      "Request berhasil ✅\n"
     ]
    }
   ],
   "source": [
    "# use requests.get() method with the provided static_url\n",
    "# URL halaman Wikipedia Falcon 9\n",
    "wiki_url = \"https://en.wikipedia.org/wiki/Falcon_9\"\n",
    "\n",
    "# Mengirim permintaan GET untuk mengambil halaman HTML\n",
    "response = requests.get(wiki_url)\n",
    "\n",
    "# Periksa apakah request berhasil\n",
    "if response.status_code == 200:\n",
    "    print(\"Request berhasil ✅\")\n",
    "else:\n",
    "    print(\"Request gagal ❌\", response.status_code)"
   ]
  },
  {
   "cell_type": "code",
   "execution_count": 9,
   "metadata": {},
   "outputs": [
    {
     "name": "stdout",
     "output_type": "stream",
     "text": [
      "<!DOCTYPE html>\n",
      "<html class=\"client-nojs vector-feature-language-in-header-enabled vector-feature-language-in-main-page-header-disabled vector-feature-page-tools-pinned-disabled vector-feature-toc-pinned-clientpref-1 vector-feature-main-menu-pinned-disabled vector-feature-limited-width-clientpref-1 vector-feature-limited-width-content-enabled vector-feature-custom-font-size-clientpref-1 vector-feature-appearance-pinned-clientpref-1 vector-feature-night-mode-enabled skin-theme-clientpref-day vect\n"
     ]
    }
   ],
   "source": [
    "print(response.text[:500])  # Cetak 500 karakter pertama dari halaman"
   ]
  },
  {
   "cell_type": "markdown",
   "metadata": {},
   "source": [
    "Create a `BeautifulSoup` object from the HTML `response`\n"
   ]
  },
  {
   "cell_type": "code",
   "execution_count": 10,
   "metadata": {},
   "outputs": [],
   "source": [
    "# Use BeautifulSoup() to create a BeautifulSoup object from a response text content\n",
    "# Buat objek BeautifulSoup dari response HTML\n",
    "soup = BeautifulSoup(response.text, 'html.parser')"
   ]
  },
  {
   "cell_type": "markdown",
   "metadata": {},
   "source": [
    "Print the page title to verify if the `BeautifulSoup` object was created properly \n"
   ]
  },
  {
   "cell_type": "code",
   "execution_count": 11,
   "metadata": {},
   "outputs": [
    {
     "name": "stdout",
     "output_type": "stream",
     "text": [
      "Judul Halaman: Falcon 9 - Wikipedia\n"
     ]
    }
   ],
   "source": [
    "# Use soup.title attribute\n",
    "# Cetak judul halaman untuk memastikan parsing berhasil\n",
    "print(\"Judul Halaman:\", soup.title.string)"
   ]
  },
  {
   "cell_type": "markdown",
   "metadata": {},
   "source": [
    "### TASK 2: Extract all column/variable names from the HTML table header\n"
   ]
  },
  {
   "cell_type": "markdown",
   "metadata": {},
   "source": [
    "Next, we want to collect all relevant column names from the HTML table header\n"
   ]
  },
  {
   "cell_type": "markdown",
   "metadata": {},
   "source": [
    "Let's try to find all tables on the wiki page first. If you need to refresh your memory about `BeautifulSoup`, please check the external reference link towards the end of this lab\n"
   ]
  },
  {
   "cell_type": "code",
   "execution_count": 12,
   "metadata": {},
   "outputs": [
    {
     "name": "stdout",
     "output_type": "stream",
     "text": [
      "Jumlah tabel ditemukan: 25\n"
     ]
    }
   ],
   "source": [
    "# Use the find_all function in the BeautifulSoup object, with element type `table`\n",
    "# Assign the result to a list called `html_tables`\n",
    "# Gunakan find_all untuk mengambil semua tabel dari halaman\n",
    "html_tables = soup.find_all('table')\n",
    "\n",
    "# Periksa jumlah tabel yang ditemukan\n",
    "print(f\"Jumlah tabel ditemukan: {len(html_tables)}\")"
   ]
  },
  {
   "cell_type": "markdown",
   "metadata": {},
   "source": [
    "Starting from the third table is our target table contains the actual launch records.\n"
   ]
  },
  {
   "cell_type": "code",
   "execution_count": 13,
   "metadata": {},
   "outputs": [
    {
     "name": "stdout",
     "output_type": "stream",
     "text": [
      "<table class=\"wikitable\">\n",
      "<tbody><tr>\n",
      "<td>Height\n",
      "</td>\n",
      "<td>41.2 m / 135.2 ft\n",
      "</td></tr>\n",
      "<tr>\n",
      "<td>Height (with interstage)\n",
      "</td>\n",
      "<td>47.7 m / 156.5 ft\n",
      "</td></tr>\n",
      "<tr>\n",
      "<td>Diameter\n",
      "</td>\n",
      "<td>3.7 m / 12 ft\n",
      "</td></tr>\n",
      "<tr>\n",
      "<td>Empty Mass\n",
      "</td>\n",
      "<td>25,600 kg / 56,423 lb\n",
      "</td></tr>\n",
      "<tr>\n",
      "<td>Propellant Mass\n",
      "</td>\n",
      "<td>395,700 kg/ 872,369 lb\n",
      "</td></tr>\n",
      "<tr>\n",
      "<td>Structure Type\n",
      "</td>\n",
      "<td>LOX tank: <a href=\"/wiki/Monocoque\" title=\"Monocoque\">monocoque</a>\n",
      "</td></tr>\n",
      "<tr>\n",
      "<td>\n",
      "</td>\n",
      "<td>Fuel tank: skin and stringer\n",
      "</td></tr>\n",
      "<tr>\n",
      "<td>Structure Material\n",
      "</td>\n",
      "<td>Aluminum lithium skin; aluminum domes\n",
      "</td></tr>\n",
      "<tr>\n",
      "<td>Landing Legs\n",
      "</td>\n",
      "<td>Number: 4\n",
      "</td></tr>\n",
      "<tr>\n",
      "<td>\n",
      "</td>\n",
      "<td>Material: <a class=\"mw-redirect\" href=\"/wiki/Carbon_fiber\" title=\"Carbon fiber\">carbon fiber</a>; <a class=\"mw-redirect\" href=\"/wiki/Aluminum_honeycomb\" title=\"Aluminum honeycomb\">aluminum honeycomb</a>\n",
      "</td></tr>\n",
      "<tr>\n",
      "<td>Number of Merlin Engines\n",
      "</td>\n",
      "<td>9 sea level\n",
      "</td></tr>\n",
      "<tr>\n",
      "<td>Propellant\n",
      "</td>\n",
      "<td>LOX / RP-1\n",
      "</td></tr>\n",
      "<tr>\n",
      "<td>Thrust at Sea Level\n",
      "</td>\n",
      "<td>7,607 kN / 1,710,000 lbf\n",
      "</td></tr>\n",
      "<tr>\n",
      "<td>Thrust in Vacuum\n",
      "</td>\n",
      "<td>8,227 kN / 1,849,500 lbf\n",
      "</td></tr>\n",
      "<tr>\n",
      "<td>Specific Impulse (sea-level)\n",
      "</td>\n",
      "<td>283 sec.\n",
      "</td></tr>\n",
      "<tr>\n",
      "<td>Specific Impulse (vacuum sec)\n",
      "</td>\n",
      "<td>312 sec.\n",
      "</td></tr>\n",
      "<tr>\n",
      "<td>Burn Time\n",
      "</td>\n",
      "<td>162 sec.\n",
      "</td></tr>\n",
      "<tr>\n",
      "<td>Ascent Attitude Control – Pitch, Yaw\n",
      "</td>\n",
      "<td>Gimbaled engines\n",
      "</td></tr>\n",
      "<tr>\n",
      "<td>Ascent Attitude Control – Roll\n",
      "</td>\n",
      "<td>Gimbaled engines\n",
      "</td></tr>\n",
      "<tr>\n",
      "<td>Coast/Descent Attitude Control\n",
      "</td>\n",
      "<td>Nitrogen gas thrusters and grid fins\n",
      "</td></tr></tbody></table>\n"
     ]
    }
   ],
   "source": [
    "# Let's print the third table and check its content\n",
    "first_launch_table = html_tables[2]\n",
    "print(first_launch_table)"
   ]
  },
  {
   "cell_type": "markdown",
   "metadata": {},
   "source": [
    "You should able to see the columns names embedded in the table header elements `<th>` as follows:\n"
   ]
  },
  {
   "cell_type": "markdown",
   "metadata": {},
   "source": [
    "```\n",
    "<tr>\n",
    "<th scope=\"col\">Flight No.\n",
    "</th>\n",
    "<th scope=\"col\">Date and<br/>time (<a href=\"/wiki/Coordinated_Universal_Time\" title=\"Coordinated Universal Time\">UTC</a>)\n",
    "</th>\n",
    "<th scope=\"col\"><a href=\"/wiki/List_of_Falcon_9_first-stage_boosters\" title=\"List of Falcon 9 first-stage boosters\">Version,<br/>Booster</a> <sup class=\"reference\" id=\"cite_ref-booster_11-0\"><a href=\"#cite_note-booster-11\">[b]</a></sup>\n",
    "</th>\n",
    "<th scope=\"col\">Launch site\n",
    "</th>\n",
    "<th scope=\"col\">Payload<sup class=\"reference\" id=\"cite_ref-Dragon_12-0\"><a href=\"#cite_note-Dragon-12\">[c]</a></sup>\n",
    "</th>\n",
    "<th scope=\"col\">Payload mass\n",
    "</th>\n",
    "<th scope=\"col\">Orbit\n",
    "</th>\n",
    "<th scope=\"col\">Customer\n",
    "</th>\n",
    "<th scope=\"col\">Launch<br/>outcome\n",
    "</th>\n",
    "<th scope=\"col\"><a href=\"/wiki/Falcon_9_first-stage_landing_tests\" title=\"Falcon 9 first-stage landing tests\">Booster<br/>landing</a>\n",
    "</th></tr>\n",
    "```\n"
   ]
  },
  {
   "cell_type": "markdown",
   "metadata": {},
   "source": [
    "Next, we just need to iterate through the `<th>` elements and apply the provided `extract_column_from_header()` to extract column name one by one\n"
   ]
  },
  {
   "cell_type": "code",
   "execution_count": 21,
   "metadata": {},
   "outputs": [
    {
     "data": {
      "text/html": [
       "<div>\n",
       "<style scoped>\n",
       "    .dataframe tbody tr th:only-of-type {\n",
       "        vertical-align: middle;\n",
       "    }\n",
       "\n",
       "    .dataframe tbody tr th {\n",
       "        vertical-align: top;\n",
       "    }\n",
       "\n",
       "    .dataframe thead th {\n",
       "        text-align: right;\n",
       "    }\n",
       "</style>\n",
       "<table border=\"1\" class=\"dataframe\">\n",
       "  <thead>\n",
       "    <tr style=\"text-align: right;\">\n",
       "      <th></th>\n",
       "      <th>Height</th>\n",
       "      <th>Height (with interstage)</th>\n",
       "      <th>Diameter</th>\n",
       "      <th>Empty Mass</th>\n",
       "      <th>Propellant Mass</th>\n",
       "      <th>Structure Type</th>\n",
       "      <th></th>\n",
       "      <th>Structure Material</th>\n",
       "      <th>Landing Legs</th>\n",
       "      <th></th>\n",
       "      <th>Number of Merlin Engines</th>\n",
       "      <th>Propellant</th>\n",
       "      <th>Thrust at Sea Level</th>\n",
       "      <th>Thrust in Vacuum</th>\n",
       "      <th>Specific Impulse (sea-level)</th>\n",
       "      <th>Specific Impulse (vacuum sec)</th>\n",
       "      <th>Burn Time</th>\n",
       "      <th>Ascent Attitude Control – Pitch, Yaw</th>\n",
       "      <th>Ascent Attitude Control – Roll</th>\n",
       "      <th>Coast/Descent Attitude Control</th>\n",
       "    </tr>\n",
       "  </thead>\n",
       "  <tbody>\n",
       "    <tr>\n",
       "      <th>0</th>\n",
       "      <td>41.2 m / 135.2 ft</td>\n",
       "      <td>47.7 m / 156.5 ft</td>\n",
       "      <td>3.7 m / 12 ft</td>\n",
       "      <td>25,600 kg / 56,423 lb</td>\n",
       "      <td>395,700 kg/ 872,369 lb</td>\n",
       "      <td>LOX tank:monocoque</td>\n",
       "      <td>Fuel tank: skin and stringer</td>\n",
       "      <td>Aluminum lithium skin; aluminum domes</td>\n",
       "      <td>Number: 4</td>\n",
       "      <td>Material:carbon fiber;aluminum honeycomb</td>\n",
       "      <td>9 sea level</td>\n",
       "      <td>LOX / RP-1</td>\n",
       "      <td>7,607 kN / 1,710,000 lbf</td>\n",
       "      <td>8,227 kN / 1,849,500 lbf</td>\n",
       "      <td>283 sec.</td>\n",
       "      <td>312 sec.</td>\n",
       "      <td>162 sec.</td>\n",
       "      <td>Gimbaled engines</td>\n",
       "      <td>Gimbaled engines</td>\n",
       "      <td>Nitrogen gas thrusters and grid fins</td>\n",
       "    </tr>\n",
       "  </tbody>\n",
       "</table>\n",
       "</div>"
      ],
      "text/plain": [
       "              Height Height (with interstage)       Diameter  \\\n",
       "0  41.2 m / 135.2 ft        47.7 m / 156.5 ft  3.7 m / 12 ft   \n",
       "\n",
       "              Empty Mass         Propellant Mass      Structure Type  \\\n",
       "0  25,600 kg / 56,423 lb  395,700 kg/ 872,369 lb  LOX tank:monocoque   \n",
       "\n",
       "                                                    Structure Material  \\\n",
       "0  Fuel tank: skin and stringer  Aluminum lithium skin; aluminum domes   \n",
       "\n",
       "  Landing Legs                                            \\\n",
       "0    Number: 4  Material:carbon fiber;aluminum honeycomb   \n",
       "\n",
       "  Number of Merlin Engines  Propellant       Thrust at Sea Level  \\\n",
       "0              9 sea level  LOX / RP-1  7,607 kN / 1,710,000 lbf   \n",
       "\n",
       "           Thrust in Vacuum Specific Impulse (sea-level)  \\\n",
       "0  8,227 kN / 1,849,500 lbf                     283 sec.   \n",
       "\n",
       "  Specific Impulse (vacuum sec) Burn Time  \\\n",
       "0                      312 sec.  162 sec.   \n",
       "\n",
       "  Ascent Attitude Control – Pitch, Yaw Ascent Attitude Control – Roll  \\\n",
       "0                     Gimbaled engines               Gimbaled engines   \n",
       "\n",
       "         Coast/Descent Attitude Control  \n",
       "0  Nitrogen gas thrusters and grid fins  "
      ]
     },
     "execution_count": 21,
     "metadata": {},
     "output_type": "execute_result"
    }
   ],
   "source": [
    "column_names = []\n",
    "\n",
    "# Apply find_all() function with `th` element on first_launch_table\n",
    "# Iterate each th element and apply the provided extract_column_from_header() to get a column name\n",
    "# Append the Non-empty column name (`if name is not None and len(name) > 0`) into a list called column_names\n",
    "# Ambil semua elemen header <th> dari tabel pertama\n",
    "data_values = []\n",
    "\n",
    "# Loop melalui setiap baris <tr> dalam tabel\n",
    "for row in first_launch_table.find_all('tr'):\n",
    "    cells = row.find_all('td')\n",
    "    \n",
    "    if len(cells) == 2:  # Pastikan hanya mengambil baris dengan 2 kolom\n",
    "        column_name = cells[0].get_text(strip=True)  # Ambil teks kolom pertama\n",
    "        value = cells[1].get_text(strip=True)  # Ambil teks kolom kedua\n",
    "\n",
    "        column_names.append(column_name)  # Simpan sebagai nama kolom\n",
    "        data_values.append(value)  # Simpan sebagai nilai\n",
    "\n",
    "# Buat DataFrame\n",
    "df = pd.DataFrame([data_values], columns=column_names)\n",
    "\n",
    "# Tampilkan DataFrame\n",
    "df.head()"
   ]
  },
  {
   "cell_type": "markdown",
   "metadata": {},
   "source": [
    "Check the extracted column names\n"
   ]
  },
  {
   "cell_type": "code",
   "execution_count": 22,
   "metadata": {},
   "outputs": [
    {
     "name": "stdout",
     "output_type": "stream",
     "text": [
      "['Height', 'Height (with interstage)', 'Diameter', 'Empty Mass', 'Propellant Mass', 'Structure Type', '', 'Structure Material', 'Landing Legs', '', 'Number of Merlin Engines', 'Propellant', 'Thrust at Sea Level', 'Thrust in Vacuum', 'Specific Impulse (sea-level)', 'Specific Impulse (vacuum sec)', 'Burn Time', 'Ascent Attitude Control – Pitch, Yaw', 'Ascent Attitude Control – Roll', 'Coast/Descent Attitude Control']\n"
     ]
    }
   ],
   "source": [
    "print(column_names)"
   ]
  },
  {
   "cell_type": "markdown",
   "metadata": {},
   "source": [
    "## TASK 3: Create a data frame by parsing the launch HTML tables\n"
   ]
  },
  {
   "cell_type": "markdown",
   "metadata": {},
   "source": [
    "We will create an empty dictionary with keys from the extracted column names in the previous task. Later, this dictionary will be converted into a Pandas dataframe\n"
   ]
  },
  {
   "cell_type": "code",
   "execution_count": 27,
   "metadata": {},
   "outputs": [
    {
     "name": "stdout",
     "output_type": "stream",
     "text": [
      "Nama kolom setelah dibersihkan: ['Height', 'Height (with interstage)', 'Diameter', 'Empty Mass', 'Propellant Mass', 'Structure Type', 'Structure Material', 'Landing Legs', 'Number of Merlin Engines', 'Propellant', 'Thrust at Sea Level', 'Thrust in Vacuum', 'Specific Impulse (sea-level)', 'Specific Impulse (vacuum sec)', 'Burn Time', 'Ascent Attitude Control – Pitch, Yaw', 'Ascent Attitude Control – Roll', 'Coast/Descent Attitude Control']\n",
      "Nama kolom yang digunakan: dict_keys(['Height', 'Height (with interstage)', 'Diameter', 'Empty Mass', 'Propellant Mass', 'Structure Type', 'Structure Material', 'Landing Legs', 'Number of Merlin Engines', 'Propellant', 'Thrust at Sea Level', 'Thrust in Vacuum', 'Specific Impulse (sea-level)', 'Specific Impulse (vacuum sec)', 'Burn Time', 'Ascent Attitude Control – Pitch, Yaw', 'Ascent Attitude Control – Roll', 'Coast/Descent Attitude Control'])\n"
     ]
    }
   ],
   "source": [
    "# Bersihkan nama kolom dari elemen kosong dan spasi ekstra\n",
    "column_names = [col.strip() for col in column_names if col.strip()]\n",
    "\n",
    "# Tampilkan kembali daftar kolom setelah pembersihan\n",
    "print(\"Nama kolom setelah dibersihkan:\", column_names)\n",
    "\n",
    "# Buat dictionary dengan kolom yang sudah dibersihkan\n",
    "launch_dict = dict.fromkeys(column_names, [])\n",
    "\n",
    "# Hapus kolom yang tidak diinginkan, jika ada\n",
    "launch_dict.pop('Date and time ( )', None)\n",
    "\n",
    "# Inisialisasi daftar kosong untuk setiap kolom\n",
    "for key in launch_dict:\n",
    "    launch_dict[key] = []\n",
    "\n",
    "print(\"Nama kolom yang digunakan:\", launch_dict.keys())  # Verifikasi ulang\n"
   ]
  },
  {
   "cell_type": "code",
   "execution_count": 30,
   "metadata": {},
   "outputs": [],
   "source": [
    "launch_dict= dict.fromkeys(column_names)\n",
    "\n",
    "# Let's initial the launch_dict with each value to be an empty list\n",
    "launch_dict['Flight No.'] = []\n",
    "launch_dict['Launch site'] = []\n",
    "launch_dict['Payload'] = []\n",
    "launch_dict['Payload mass'] = []\n",
    "launch_dict['Orbit'] = []\n",
    "launch_dict['Customer'] = []\n",
    "launch_dict['Launch outcome'] = []\n",
    "# Added some new columns\n",
    "launch_dict['Version Booster']=[]\n",
    "launch_dict['Booster landing']=[]"
   ]
  },
  {
   "cell_type": "markdown",
   "metadata": {},
   "source": [
    "Next, we just need to fill up the `launch_dict` with launch records extracted from table rows.\n"
   ]
  },
  {
   "cell_type": "markdown",
   "metadata": {},
   "source": [
    "Usually, HTML tables in Wiki pages are likely to contain unexpected annotations and other types of noises, such as reference links `B0004.1[8]`, missing values `N/A [e]`, inconsistent formatting, etc.\n"
   ]
  },
  {
   "cell_type": "markdown",
   "metadata": {},
   "source": [
    "To simplify the parsing process, we have provided an incomplete code snippet below to help you to fill up the `launch_dict`. Please complete the following code snippet with TODOs or you can choose to write your own logic to parse all launch tables:\n"
   ]
  },
  {
   "cell_type": "code",
   "execution_count": 33,
   "metadata": {},
   "outputs": [
    {
     "name": "stdout",
     "output_type": "stream",
     "text": [
      "Empty DataFrame\n",
      "Columns: [Height, Height (with interstage), Diameter, Empty Mass, Propellant Mass, Structure Type, Structure Material, Landing Legs, Number of Merlin Engines, Propellant, Thrust at Sea Level, Thrust in Vacuum, Specific Impulse (sea-level), Specific Impulse (vacuum sec), Burn Time, Ascent Attitude Control – Pitch, Yaw, Ascent Attitude Control – Roll, Coast/Descent Attitude Control]\n",
      "Index: []\n"
     ]
    }
   ],
   "source": [
    "# Inisialisasi dictionary untuk menyimpan data\n",
    "launch_dict = dict.fromkeys(column_names, [])\n",
    "\n",
    "# Parsing data dari tabel HTML\n",
    "extracted_row = 0\n",
    "\n",
    "# Loop untuk ekstrak tabel dari halaman Wiki\n",
    "for table_number, table in enumerate(soup.find_all('table', 'wikitable plainrowheaders collapsible')):\n",
    "    for rows in table.find_all(\"tr\"):\n",
    "        \n",
    "        # Cek apakah ini adalah header dengan angka (Nomor Flight)\n",
    "        if rows.th and rows.th.string:\n",
    "            flight_number = rows.th.string.strip()\n",
    "            flag = flight_number.isdigit()  # Pastikan ini angka\n",
    "            \n",
    "        # Jika valid, ekstrak datanya\n",
    "        if flag:\n",
    "            extracted_row += 1\n",
    "            row = rows.find_all('td')\n",
    "\n",
    "            # Menyimpan data sesuai urutan kolom di tabel Wiki\n",
    "            datetimelist = row[0].text.strip().split(\",\")\n",
    "            date = datetimelist[0].strip()\n",
    "            time = datetimelist[1].strip() if len(datetimelist) > 1 else None\n",
    "\n",
    "            booster_version = row[1].a.string if row[1].a else None\n",
    "            launch_site = row[2].a.string if row[2].a else row[2].text.strip()\n",
    "            payload = row[3].a.string if row[3].a else row[3].text.strip()\n",
    "            payload_mass = row[4].text.strip() if row[4] else None\n",
    "            orbit = row[5].text.strip() if row[5] else None\n",
    "            customer = row[6].text.strip() if row[6] else None\n",
    "            launch_outcome = list(row[7].strings)[0].strip() if row[7] else None\n",
    "            booster_landing = row[8].text.strip() if row[8] else None\n",
    "\n",
    "            # Menambahkan data ke dalam dictionary\n",
    "            launch_dict['Flight No.'].append(flight_number)\n",
    "            launch_dict['Date'].append(date)\n",
    "            launch_dict['Time'].append(time)\n",
    "            launch_dict['Version Booster'].append(booster_version)\n",
    "            launch_dict['Launch Site'].append(launch_site)\n",
    "            launch_dict['Payload'].append(payload)\n",
    "            launch_dict['Payload mass'].append(payload_mass)\n",
    "            launch_dict['Orbit'].append(orbit)\n",
    "            launch_dict['Customer'].append(customer)\n",
    "            launch_dict['Launch outcome'].append(launch_outcome)\n",
    "            launch_dict['Booster Landing'].append(booster_landing)\n",
    "\n",
    "# Konversi dictionary ke DataFrame\n",
    "df = pd.DataFrame({key: pd.Series(value) for key, value in launch_dict.items()})\n",
    "\n",
    "# Simpan ke CSV\n",
    "df.to_csv('spacex_web_scraped.csv', index=False)\n",
    "\n",
    "# Tampilkan 5 data pertama\n",
    "print(df.head())\n"
   ]
  },
  {
   "cell_type": "code",
   "execution_count": 38,
   "metadata": {},
   "outputs": [
    {
     "name": "stdout",
     "output_type": "stream",
     "text": [
      "Index(['static_fire_date_utc', 'static_fire_date_unix', 'net', 'window',\n",
      "       'rocket', 'success', 'failures', 'details', 'crew', 'ships', 'capsules',\n",
      "       'payloads', 'launchpad', 'flight_number', 'name', 'date_utc',\n",
      "       'date_unix', 'date_local', 'date_precision', 'upcoming', 'cores',\n",
      "       'auto_update', 'tbd', 'launch_library_id', 'id', 'fairings.reused',\n",
      "       'fairings.recovery_attempt', 'fairings.recovered', 'fairings.ships',\n",
      "       'links.patch.small', 'links.patch.large', 'links.reddit.campaign',\n",
      "       'links.reddit.launch', 'links.reddit.media', 'links.reddit.recovery',\n",
      "       'links.flickr.small', 'links.flickr.original', 'links.presskit',\n",
      "       'links.webcast', 'links.youtube_id', 'links.article', 'links.wikipedia',\n",
      "       'fairings'],\n",
      "      dtype='object')\n"
     ]
    }
   ],
   "source": [
    "print(df.columns)"
   ]
  },
  {
   "cell_type": "code",
   "execution_count": 39,
   "metadata": {},
   "outputs": [
    {
     "name": "stdout",
     "output_type": "stream",
     "text": [
      "Number of missing values in launchpad: 0\n"
     ]
    }
   ],
   "source": [
    "missing_values = df[\"launchpad\"].isnull().sum()\n",
    "print(\"Number of missing values in launchpad:\", missing_values)"
   ]
  },
  {
   "cell_type": "markdown",
   "metadata": {},
   "source": [
    "After you have fill in the parsed launch record values into `launch_dict`, you can create a dataframe from it.\n"
   ]
  },
  {
   "cell_type": "markdown",
   "metadata": {},
   "source": [
    "We can now export it to a <b>CSV</b> for the next section, but to make the answers consistent and in case you have difficulties finishing this lab. \n",
    "\n",
    "Following labs will be using a provided dataset to make each lab independent. \n"
   ]
  },
  {
   "cell_type": "markdown",
   "metadata": {},
   "source": [
    "<code>df.to_csv('spacex_web_scraped.csv', index=False)</code>\n"
   ]
  },
  {
   "cell_type": "markdown",
   "metadata": {},
   "source": [
    "## Authors\n"
   ]
  },
  {
   "cell_type": "markdown",
   "metadata": {},
   "source": [
    "<a href=\"https://www.linkedin.com/in/yan-luo-96288783/\">Yan Luo</a>\n"
   ]
  },
  {
   "cell_type": "markdown",
   "metadata": {},
   "source": [
    "<a href=\"https://www.linkedin.com/in/nayefaboutayoun/\">Nayef Abou Tayoun</a>\n"
   ]
  },
  {
   "cell_type": "markdown",
   "metadata": {},
   "source": [
    "<!--\n",
    "## Change Log\n",
    "-->\n"
   ]
  },
  {
   "cell_type": "markdown",
   "metadata": {},
   "source": [
    "<!--\n",
    "| Date (YYYY-MM-DD) | Version | Changed By | Change Description      |\n",
    "| ----------------- | ------- | ---------- | ----------------------- |\n",
    "| 2021-06-09        | 1.0     | Yan Luo    | Tasks updates           |\n",
    "| 2020-11-10        | 1.0     | Nayef      | Created the initial version |\n",
    "-->\n"
   ]
  },
  {
   "cell_type": "markdown",
   "metadata": {},
   "source": [
    "Copyright © 2021 IBM Corporation. All rights reserved.\n"
   ]
  }
 ],
 "metadata": {
  "kernelspec": {
   "display_name": "Python 3 (ipykernel)",
   "language": "python",
   "name": "python3"
  },
  "language_info": {
   "codemirror_mode": {
    "name": "ipython",
    "version": 3
   },
   "file_extension": ".py",
   "mimetype": "text/x-python",
   "name": "python",
   "nbconvert_exporter": "python",
   "pygments_lexer": "ipython3",
   "version": "3.12.7"
  },
  "prev_pub_hash": "64f1b0aac408997185c47caba18730e0028b75e7934a0e5bf0ae73c5cb7ba677"
 },
 "nbformat": 4,
 "nbformat_minor": 4
}
